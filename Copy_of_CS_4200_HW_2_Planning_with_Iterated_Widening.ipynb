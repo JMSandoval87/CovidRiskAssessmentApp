{
  "nbformat": 4,
  "nbformat_minor": 0,
  "metadata": {
    "colab": {
      "name": "Copy of CS 4200 HW 2 -- Planning with Iterated Widening",
      "provenance": [],
      "collapsed_sections": [],
      "include_colab_link": true
    },
    "kernelspec": {
      "display_name": "Python 3",
      "language": "python",
      "name": "python3"
    },
    "language_info": {
      "codemirror_mode": {
        "name": "ipython",
        "version": 3
      },
      "file_extension": ".py",
      "mimetype": "text/x-python",
      "name": "python",
      "nbconvert_exporter": "python",
      "pygments_lexer": "ipython3",
      "version": "3.6.5"
    }
  },
  "cells": [
    {
      "cell_type": "markdown",
      "metadata": {
        "id": "view-in-github",
        "colab_type": "text"
      },
      "source": [
        "<a href=\"https://colab.research.google.com/github/JMSandoval87/CovidRiskAssessmentApp/blob/master/Copy_of_CS_4200_HW_2_Planning_with_Iterated_Widening.ipynb\" target=\"_parent\"><img src=\"https://colab.research.google.com/assets/colab-badge.svg\" alt=\"Open In Colab\"/></a>"
      ]
    },
    {
      "cell_type": "markdown",
      "metadata": {
        "id": "gY4IKEVyYaAK"
      },
      "source": [
        "Joshua Jones, 014125501, jjones@cpp.edu  \n",
        "Jonas Sandoval, 013664170, jmsandoval@cpp.edu  \n",
        "Yuan-Chieh Ying, 013269659, yying@cpp.edu"
      ]
    },
    {
      "cell_type": "markdown",
      "metadata": {
        "id": "KtMzwQ-bhGz7"
      },
      "source": [
        "In this assignment, you will be making a simple satisficing Minecraft crafting planner.  Given an initial state, you will want to find a series of actions that gets you to a desired goal state.  For fun, you will also use your implementations for Dijkstras and A* to show how they don't do well in a search space this large (without a lot of tweaking).\n",
        "\n",
        "In this assignment you will:\n",
        "\n",
        "* Parse and process a data file into a format that is usable in your code\n",
        "* Create a representation of a state space such that you can check preconditions and apply effects in an efficient manner\n",
        "* Create a method to convert the intuitive predicate based state system into a propositional system\n",
        "* Implement Width-Search utilizing Iterative Widening to efficiently find a plan that gets from an arbitrary state space to a desired state space\n",
        "* Compare Width-Search to optimal search methods such as Dijkstra's and A* to see how they compare in what they can efficiently solve\n",
        "\n",
        "The goal of this assignment is for you to understand:\n",
        "* How to manipulate data (a boring, but CRUCIAL skill)\n",
        "* How to navigate a state space that doesn't map to standard geometry (i.e., domains outside of palt\n",
        "* How the pruning of a search space can result in a drastic reduction in the time spent performing the search"
      ]
    },
    {
      "cell_type": "markdown",
      "metadata": {
        "id": "SSHXNkMYhGz7"
      },
      "source": [
        "First we will load in crafting.json,  a json file that"
      ]
    },
    {
      "cell_type": "code",
      "metadata": {
        "colab": {
          "base_uri": "https://localhost:8080/"
        },
        "id": "ryiKOZyMhGz8",
        "outputId": "cc9353f9-ae5b-4e37-937f-0cb3b85a6c4c"
      },
      "source": [
        "!wget http://modelai.gettysburg.edu/2019/minecraft/CraftingPlanning/crafting.json\n",
        "\n",
        "import json\n",
        "from typing import NamedTuple, Dict, Tuple, Optional, Sequence, List, Set, FrozenSet\n",
        "import array\n",
        "import heapq\n",
        "import time\n",
        "import itertools\n",
        "\n",
        "with open('crafting.json') as f:\n",
        "    Crafting = json.load(f)\n",
        "\n",
        "# List of items that can be in your inventory:\n",
        "print(Crafting['Items'])\n",
        "# example: ['bench', 'cart', ..., 'wood', 'wooden_axe', 'wooden_pickaxe']\n",
        "\n",
        "# List of items needed to be in your inventory at the end of the plan:\n",
        "# (okay to have more than this; some might be satisfied by initial inventory)\n",
        "print(Crafting['Goal'])\n",
        "# {'stone_pickaxe': 2}\n",
        "\n",
        "# Dict of crafting recipes (each is a dict):\n",
        "print(Crafting['Recipes']['craft stone_pickaxe at bench'])\n",
        "# example:\n",
        "# {\t'Produces': {'stone_pickaxe': 1},\n",
        "#\t'Requires': {'bench': True},\n",
        "#\t'Consumes': {'cobble': 3, 'stick': 2},\n",
        "#\t'Time': 1\n",
        "# }\n",
        "\n"
      ],
      "execution_count": null,
      "outputs": [
        {
          "output_type": "stream",
          "name": "stdout",
          "text": [
            "--2021-10-05 22:56:50--  http://modelai.gettysburg.edu/2019/minecraft/CraftingPlanning/crafting.json\n",
            "Resolving modelai.gettysburg.edu (modelai.gettysburg.edu)... 138.234.44.4\n",
            "Connecting to modelai.gettysburg.edu (modelai.gettysburg.edu)|138.234.44.4|:80... connected.\n",
            "HTTP request sent, awaiting response... 200 OK\n",
            "Length: 4960 (4.8K) [application/json]\n",
            "Saving to: ‘crafting.json’\n",
            "\n",
            "\rcrafting.json         0%[                    ]       0  --.-KB/s               \rcrafting.json       100%[===================>]   4.84K  --.-KB/s    in 0s      \n",
            "\n",
            "2021-10-05 22:56:50 (351 MB/s) - ‘crafting.json’ saved [4960/4960]\n",
            "\n",
            "['bench', 'cart', 'coal', 'cobble', 'furnace', 'ingot', 'iron_axe', 'iron_pickaxe', 'ore', 'plank', 'rail', 'stick', 'stone_axe', 'stone_pickaxe', 'wood', 'wooden_axe', 'wooden_pickaxe']\n",
            "{'stone_pickaxe': 1}\n",
            "{'Produces': {'stone_pickaxe': 1}, 'Requires': {'bench': True}, 'Consumes': {'cobble': 3, 'stick': 2}, 'Time': 1}\n"
          ]
        }
      ]
    },
    {
      "cell_type": "markdown",
      "metadata": {
        "id": "GA-VSa4_hGz-"
      },
      "source": [
        "Let's reflect a little bit.\n",
        "1. Do the recipe dictionaries in `crafting.json` all have the same set of keys?  Print out a few to find out, or read the JSON file.\n",
        "2. What is similar about the `Initial`, `Goal`, `Produces`, `Consumes`, and `Requires` schema?  What is different about them?\n",
        "3. Thinking back to your data structures class, what operations are involved in looking up a key in a dictionary data structure, and how does that compare to obtaining values from an array?\n",
        "4. Look this up if you need to: What is the difference between a Python `List` of integers and a Python `array.array` of integers?"
      ]
    },
    {
      "cell_type": "markdown",
      "metadata": {
        "id": "wvwH_zrphGz_"
      },
      "source": [
        "Let's proceed by using the same data representation for an inventory state (as in `Initial`), a partial inventory state (as in `Goal`, `Produces`, and `Consumes`), and the inventory query posed by `Requires`.\n",
        "Because the speed of the inner loop is of supreme importance in graph search, we'll want to use an `array` of unsigned integers data representation for each of these (this may feel like premature optimization; email me if you want extra credit by comparing it with a simple dict-based representation).\n",
        "In order to go back and forth between item names and item indices, let's define a couple of global variables:"
      ]
    },
    {
      "cell_type": "code",
      "metadata": {
        "id": "5_ABA5f1hGz_"
      },
      "source": [
        "items_by_index = list(sorted(Crafting['Items']))\n",
        "items_to_indices = {item: index for index, item in enumerate(items_by_index)}"
      ],
      "execution_count": null,
      "outputs": []
    },
    {
      "cell_type": "markdown",
      "metadata": {
        "id": "o2QoW7E1hG0B"
      },
      "source": [
        "\n",
        "We'll wrap our array-of-items data structure in a convenience class called `State`.\n",
        "Because we'll need to put `State`s into closed sets, priority queues, and so on, we'll need them to be hashable, equatable, and comparable.\n",
        "We also will need to be adding and subtracting inventory states from each other later on, so we'll put that in there too.\n",
        "A skeleton of this class is provided below, with some of the data handling code given.\n",
        "\n",
        "##Task 1 10 points\n",
        "* Fill out the methods below for `__add__` `__sub__` and `__ge__` (the operator overloads for `+ - >=`)\n",
        " * Think about what it would mean to add (or subtract) two states from each other -- we want to make sure that the new state has the sum for all entity types (e.g. the state of `{wood:4, cobble:1}` added to `{wood:1}` should be `{wood:5, cobble:1}` NOTE this is playing a bit fast with the syntax, this would not be directly runnable code)\n"
      ]
    },
    {
      "cell_type": "code",
      "metadata": {
        "id": "eaV6Vu8VhG0C"
      },
      "source": [
        "\n",
        "class State:\n",
        "    items: array.array\n",
        "\n",
        "    def __init__(self, items: Optional[Sequence[int]] = None) -> None:\n",
        "        if items is not None:\n",
        "            # Copying a state from an old state.\n",
        "            # This call to the array constructor creates an array of unsigned integers and initializes it from the contents of items.\n",
        "            self.items = array.array('I', items)\n",
        "        else:\n",
        "            self.items = array.array('I', [0 for item in items_by_index])\n",
        "\n",
        "    def __add__(self, other:'State')->'State':\n",
        "        s = State(self.items)\n",
        "        # TODO How do you add two states together\n",
        "        i = 0\n",
        "        for item in other.items:\n",
        "          s.items[i] = s.items[i] + other.items[i]\n",
        "          i += 1\n",
        "        return s\n",
        "    def __sub__(self, other:'State')->'State':\n",
        "        s = State(self.items)\n",
        "        # TODO How do you subtract one state from another\n",
        "        i = 0\n",
        "        for item in other.items:\n",
        "          s.items[i] = s.items[i] - other.items[i]\n",
        "          i += 1\n",
        "        return s\n",
        "\n",
        "    def __ge__(self, other:'State')->bool:\n",
        "        # TODO How do we know whether one state (self) contains everything that's inside of another (other)?\n",
        "        s = State(self.items)\n",
        "        i = 0\n",
        "        for item in other.items:\n",
        "          if s.items[i] < other.items[i]:\n",
        "            #print(\"please work\")\n",
        "            return False\n",
        "          i += 1\n",
        "\n",
        "        return True\n",
        "        \n",
        "    def __lt__(self, other:'State')->bool:\n",
        "        return not (self >= other)\n",
        "\n",
        "    def __eq__(self, other:'State')->bool:\n",
        "        return self.items == other.items\n",
        "\n",
        "    def __hash__(self)->int:\n",
        "        hsh = 5381\n",
        "        for s in self.items:\n",
        "            hsh = ((hsh << 5) + hsh) + s\n",
        "        return hsh\n",
        "\n",
        "    def __str__(self)-> str:\n",
        "        out_str = []\n",
        "        for k,v  in self.to_dict().items():\n",
        "            out_str.append('{}:{}'.format(k,v))\n",
        "        return ', '.join(out_str)\n",
        "\n",
        "    def to_dict(self) -> Dict[str, int]:\n",
        "        return {items_by_index[idx]: self.items[idx]\n",
        "                for idx in range(len(self.items))}\n",
        "\n",
        "    @classmethod\n",
        "    def from_dict(cls, item_dict: Dict[str, int]) -> 'State':\n",
        "        return cls([\n",
        "            item_dict.get(item, 0) for item in items_by_index\n",
        "        ])"
      ],
      "execution_count": null,
      "outputs": []
    },
    {
      "cell_type": "markdown",
      "metadata": {
        "id": "2TXphO5MhG0E"
      },
      "source": [
        "At this point we can already solve trivial problems:"
      ]
    },
    {
      "cell_type": "code",
      "metadata": {
        "colab": {
          "base_uri": "https://localhost:8080/"
        },
        "id": "UbjAT_TQhG0E",
        "outputId": "f5747ee9-edca-44b8-a8c5-843ce1b0a247"
      },
      "source": [
        "# Example\n",
        "initial = State.from_dict({'stone_pickaxe':1, 'ingot':2})\n",
        "goal = State.from_dict({'ingot':1})\n",
        "print(initial)\n",
        "print(goal)\n",
        "print(initial >= goal)\n",
        "print(goal < initial)\n",
        "print(goal >= initial)"
      ],
      "execution_count": null,
      "outputs": [
        {
          "output_type": "stream",
          "name": "stdout",
          "text": [
            "bench:0, cart:0, coal:0, cobble:0, furnace:0, ingot:2, iron_axe:0, iron_pickaxe:0, ore:0, plank:0, rail:0, stick:0, stone_axe:0, stone_pickaxe:1, wood:0, wooden_axe:0, wooden_pickaxe:0\n",
            "bench:0, cart:0, coal:0, cobble:0, furnace:0, ingot:1, iron_axe:0, iron_pickaxe:0, ore:0, plank:0, rail:0, stick:0, stone_axe:0, stone_pickaxe:0, wood:0, wooden_axe:0, wooden_pickaxe:0\n",
            "True\n",
            "True\n",
            "False\n"
          ]
        }
      ]
    },
    {
      "cell_type": "markdown",
      "metadata": {
        "id": "Jrpckz7xhG0G"
      },
      "source": [
        "Now that we have our state representation, we can rephrase the recipes in terms of what they need from the state.\n",
        "Python has a useful datastructure -- `namedtuple` -- we can use for this purpose, so we'll have a `namedtuple` type called `Recipe`.  \n",
        "\n",
        "    "
      ]
    },
    {
      "cell_type": "code",
      "metadata": {
        "id": "EZTXFKlDhG0H"
      },
      "source": [
        "class Recipe(NamedTuple):\n",
        "    produces: State\n",
        "    consumes: State\n",
        "    requires: State\n",
        "    cost: int"
      ],
      "execution_count": null,
      "outputs": []
    },
    {
      "cell_type": "markdown",
      "metadata": {
        "id": "avPAy79KhG0J"
      },
      "source": [
        "It acts like a tuple in that its data are laid out contiguously in memory and it is immutable, but it has convenient accessors.\n",
        "Let's initialize a dictionary mapping names to recipes:"
      ]
    },
    {
      "cell_type": "code",
      "metadata": {
        "id": "hQARPXBYhG0J"
      },
      "source": [
        "recipes: Dict[str, Recipe] = {}\n",
        "for name, rule in Crafting['Recipes'].items():\n",
        "    recipes[name] = Recipe(\n",
        "        State.from_dict(rule.get('Produces', {})),\n",
        "        State.from_dict(rule.get('Consumes', {})),\n",
        "        State.from_dict({item: 1 if req else 0\n",
        "                         for item, req in rule.get('Requires', {}).items()}),\n",
        "        rule['Time']\n",
        "    )  "
      ],
      "execution_count": null,
      "outputs": []
    },
    {
      "cell_type": "markdown",
      "metadata": {
        "id": "7j7463BwhG0L"
      },
      "source": [
        "Now we have our state representation and our action representation for the crafting domain.\n",
        "Let's reflect.\n",
        "\n",
        "5. What was the state representation in the path planning assignment?\n",
        "6. What was the action representation?\n",
        "7. How many possible actions are there in the whole domain, and how many of those are possible in a given state?\n",
        "\n",
        "In fact, we can consider any planning problem in terms of states and a transition relation between states and those actions which are valid in that state. \n",
        "If we're thinking about path planning as search on the graph of possible locations (with edges given by a connectedness relation), task planning can be seen as search on the graph of possible states (with edges given by the state transition relation).\n",
        "Let's implement the transition relation now:\n",
        "\n",
        "## Task 2 10 points\n",
        "* Implement the functions `preconditions_satisfied` and `apply_effects` below\n",
        "  * Think about how to implement these using the above functions of `+, -, >=` "
      ]
    },
    {
      "cell_type": "code",
      "metadata": {
        "colab": {
          "base_uri": "https://localhost:8080/"
        },
        "id": "bP125d3shG0M",
        "outputId": "d1c28dcb-ad6a-4dcf-f23a-0287b895716b"
      },
      "source": [
        "\n",
        "def preconditions_satisfied(state: State, recipe: Recipe) -> bool:\n",
        "    # TODO What needs to be true about state and recipe?\n",
        "    # Feel free to use State's >= method\n",
        "    if state >= recipe.consumes and state >= recipe.requires:\n",
        "      #print(\"True\")\n",
        "      return True    \n",
        "    \n",
        "    return False\n",
        "\n",
        "def apply_effects(state: State, recipe: Recipe) -> State:\n",
        "    #TODO What happens when a recipe is used?\n",
        "    #print(state.items)\n",
        "    newState = state + recipe.produces - recipe.consumes    \n",
        "    #print(state.items)\n",
        "    return newState\n",
        "\n",
        "\n",
        "initial = State.from_dict({'stone_pickaxe':1, 'ingot':2})\n",
        "\n",
        "#Let's try using the pickaxe\n",
        "if preconditions_satisfied(initial,recipes['stone_pickaxe for cobble']):\n",
        "    print('Stone Pickaxe',apply_effects(initial,recipes['stone_pickaxe for cobble']))\n",
        "\n",
        "if preconditions_satisfied(initial,recipes['wooden_pickaxe for cobble']):\n",
        "    print('Wooden Pickaxe',apply_effects(initial,recipes['wooden_pickaxe for cobble']))\n"
      ],
      "execution_count": null,
      "outputs": [
        {
          "output_type": "stream",
          "name": "stdout",
          "text": [
            "Stone Pickaxe bench:0, cart:0, coal:0, cobble:1, furnace:0, ingot:2, iron_axe:0, iron_pickaxe:0, ore:0, plank:0, rail:0, stick:0, stone_axe:0, stone_pickaxe:1, wood:0, wooden_axe:0, wooden_pickaxe:0\n"
          ]
        }
      ]
    },
    {
      "cell_type": "markdown",
      "metadata": {
        "id": "JMv_gmTShG0O"
      },
      "source": [
        "**Planning via Graph Search**\n",
        "\n",
        "Remember back to BFS.  Consider how the one presented in class would need to change so it works on states-and-actions instead of locations-and-directions?\n",
        "\n",
        "\n",
        "\n",
        "#Task 3 10 points\n",
        "* Implement BFS below \n",
        "   * Think about how we are traversing the state space via the application of recipes and when we can or cannot apply a recipe\n",
        "\n",
        "Let's try it:"
      ]
    },
    {
      "cell_type": "code",
      "metadata": {
        "id": "mh36QS1dhG0O"
      },
      "source": [
        "#notes to self:\n",
        "    #Each node is a state produced by crafting a recipe from the state in the node preceding it\n",
        "    #The neighbors of a node A are the set of states produced by crafting a given recipe from the state in node A\n",
        "    #The paths from a given node (i.e. the number of neighbors it has) are determined by the recipes whose requirements (consumes and requires) are satisfied by the state within that node\n",
        "    #The cost of a path is the time it takes to craft the recipe between two nodes\n",
        "\n",
        "def getNeighbors(state: State, preconditions_satisfied) -> List[Tuple[State, int]]:\n",
        "    neighbors = []\n",
        "    for recipe in recipes:\n",
        "      \n",
        "      #print(state)\n",
        "      if preconditions_satisfied(state,recipes[recipe]):\n",
        "        #print(recipe)\n",
        "        #print(apply_effects(state,recipes[recipe]))\n",
        "        neighborState = apply_effects(state,recipes[recipe])\n",
        "        neighbor = (neighborState, recipe)\n",
        "        neighbors.append(neighbor)\n",
        "\n",
        "    return neighbors\n",
        "\n",
        "#getNeighbors(State.from_dict({}),preconditions_satisfied)\n",
        "\n",
        "def isGoal(state: State, goal: State) -> bool:\n",
        "    if state >= goal:\n",
        "      return True\n",
        "    return False\n",
        "\n",
        "def plan_bfs(initial: State, goal: State, limit:int) -> Tuple[int, Optional[List[str]]]:    \n",
        "    start_time = time.time()\n",
        "    # E. Implement it here!  \n",
        "    #When you find a solution, print out the number of nodes visited.  \n",
        "    #If you don't find a solution, print out the number of nodes visited. \n",
        "    # Return a tuple of (nodes_visited,None) if no path exists, \n",
        "    #  or else a tuple of (nodes_visited, cost, path) where path is a list of recipe names.\n",
        "    # You should also use limit to avoid visiting too many nodes before returning _something_.\n",
        "    \n",
        "    frontier = [initial]\n",
        "    came_from = {initial:None} #Dict[State, State]\n",
        "    cost = 0    \n",
        "    states_visited = 0\n",
        "    visited = set()\n",
        "    path = []\n",
        "\n",
        "    #print(goal)\n",
        "\n",
        "    while len(frontier) > 0:\n",
        "      if states_visited < limit:\n",
        "        current = frontier.pop(0)\n",
        "        if current in visited:\n",
        "          continue\n",
        "        visited.add(current)\n",
        "        states_visited += 1\n",
        "        #print(states_visited)\n",
        "\n",
        "        if isGoal(current, goal):\n",
        "          #print(\"Nodes visited: \", states_visited)\n",
        "          #print(current.items)\n",
        "          previous = current\n",
        "\n",
        "          #path.append(came_from[current])\n",
        "          #print(came_from)\n",
        "          #print(came_from[current])\n",
        "          while came_from[previous] is not None:\n",
        "            cost = cost + recipes[came_from[previous][1]].cost\n",
        "            path.insert(0, came_from[previous][1])\n",
        "            previous = came_from[previous][0]        \n",
        "\n",
        "          return (states_visited, cost, path)\n",
        "\n",
        "        for neighbor in getNeighbors(current, preconditions_satisfied):\n",
        "          came_from[neighbor[0]] = (current,neighbor[1])\n",
        "          #print(neighbor[1])\n",
        "          #print(came_from[neighbor[0]])\n",
        "\n",
        "          frontier.append(neighbor[0])\n",
        "    \n",
        "      elif states_visited >= limit:\n",
        "        return (states_visited,None)\n",
        "    \n",
        "\n",
        "\n",
        "#pass"
      ],
      "execution_count": null,
      "outputs": []
    },
    {
      "cell_type": "code",
      "metadata": {
        "colab": {
          "base_uri": "https://localhost:8080/"
        },
        "id": "fXWDYQUzhG0Q",
        "outputId": "56ece7a4-40d5-4036-e319-8ea23989b377"
      },
      "source": [
        "#Let's try it out\n",
        "print(plan_bfs(State.from_dict({}),\n",
        "                    State.from_dict({'stone_pickaxe':1}),\n",
        "                    1000))\n",
        "print(plan_bfs(State.from_dict({'bench':1,'stone_pickaxe':1}),\n",
        "                    State.from_dict({'ingot':1}),\n",
        "                    1000))"
      ],
      "execution_count": null,
      "outputs": [
        {
          "output_type": "stream",
          "name": "stdout",
          "text": [
            "(419, 31, ['punch for wood', 'craft plank', 'craft bench', 'punch for wood', 'punch for wood', 'craft plank', 'craft plank', 'craft stick', 'craft wooden_pickaxe at bench', 'wooden_pickaxe for cobble', 'wooden_pickaxe for cobble', 'wooden_pickaxe for cobble', 'craft stone_pickaxe at bench'])\n",
            "(1000, None)\n"
          ]
        }
      ]
    },
    {
      "cell_type": "markdown",
      "metadata": {
        "id": "zG8ny3zThG0T"
      },
      "source": [
        "9. Imagine applying Dijkstra's here.  How would things change?  Image applying A* here.  What heuristic would you want to use?  Is that heuristic admissible?  Is that a problem?\n",
        "10. What's the largest planning problem (initial and goal state) you can think up which your BFS implementation can solve within 30 seconds?  How many nodes does it visit and how long does it take in wall-clock time?"
      ]
    },
    {
      "cell_type": "markdown",
      "metadata": {
        "id": "2RuGk73VhG0T"
      },
      "source": [
        "**Planning with Iterated Widening**\n",
        "\n",
        "Let's compare against a dedicated planning algorithm, rather than applying graph search naively.\n",
        "Planning domains have some significant differences from general graph search problems---let's reflect on what they might be.\n",
        "11. In graph search, what is the goal of a search?  How is that different from the goal of a planning problem?\n",
        "12. In graph search, what are the preconditions for traversing an edge?  How does this differ in a planning problem?\n",
        "13. In graph search, detecting cycles is relatively cheap.  Is that the case for planning problems?\n",
        "14. Is there more than one type of \"cycle\" in our crafting planning problem?\n",
        "\n",
        "Think about a recipe like making a stone pickaxe.\n",
        "Every possible planning state either satisfies its preconditions or doesn't.\n",
        "If this recipe were the only action, we could formulate the problem as a domain with just three `abstract` states---one without a pickaxe and without the needed supplies, one without a pickaxe and with the needed supplies, and one with a pickaxe (and it doesn't matter what else is in the state).\n",
        "15. If we had a domain with just two recipes (`punch for wood` and `wood planks`), what would be the abstract states in the sense used above?\n",
        "\n",
        "We can automate the intuition of (15) by transforming our states into `combinations of propositions`\n",
        "A `proposition` here is a logical fact entailed by the state; for example `I have at least one piece of wood`, `I have at least two pieces of wood`, `I have at least one plank`, and so on.\n",
        "Note that if we have two pieces of wood then we necessarily have one piece of wood as well!\n",
        "`Iterated Widening` is a planning algorithm which works by abstracting away differences between states and discarding states which are too similar to states which have been seen already in this iteration.\n",
        "Two states are similar if they share some number of propositions in common---so if the `width` measure is one, then when we have seen one state where we have at least one stick we subsequently ignore every other state we might find later with one or more sticks (we'll relax this a little to say \"any sufficiently different state is worth exploring\"---so if it has at least a few propositions that are unique with respect to all seen combinations of a given width, we will consider it).\n",
        "To regain completeness---to always find a solution if one exists---the size of the combinations of items considered in this similarity computation is gradually increased until a solution is found.\n",
        "\n",
        "\n",
        "\n",
        "Now we will define a Proposition of the form \n",
        "`I have at least N of item INDEX`\n",
        "\n",
        "Then we will define a function that takes in a state and propositionalizes it.  E.g.\n",
        "\n",
        "If we have:\n",
        "`items_by_index = ['wood', 'cobble', 'bench']` \n",
        "and\n",
        "our current state is:\n",
        "`{'wood':5, 'bench':1}`\n",
        "\n",
        "then propositionalized version should be a set of:\n",
        "`Proposition(1,5), Proposition(1,4), Proposition(1,3), Proposition(1,2), Proposition(1,1), Proposition(3,1)`\n",
        "\n",
        "i.e. we have at least 1,2,3,4, and 5 pieces of wood, and at least 1 bench.\n",
        "\n",
        "\n",
        "## Task 4 15 \n",
        "* Implement the function that propositionalizes a state as discussed above\n"
      ]
    },
    {
      "cell_type": "code",
      "metadata": {
        "colab": {
          "base_uri": "https://localhost:8080/"
        },
        "id": "pOUOp2vchG0U",
        "outputId": "4854467c-3776-40ed-d40c-4399d96df3df"
      },
      "source": [
        "class Proposition(NamedTuple):\n",
        "    item: int\n",
        "    at_least: int\n",
        "\n",
        "def state_propositions(state: State) -> Set[Proposition]:\n",
        "    propositions: Set[Proposition] = set()\n",
        "    # TODO Do something for each item in state.  Output all propositions entailed by the state's contents\n",
        "    for i in range(len(state.items)) :\n",
        "        for j in range( 1, state.items[i]+1):\n",
        "            propositions.add(Proposition(i,j))\n",
        "    return propositions\n",
        "\n",
        "print(state_propositions(State.from_dict({'wood':5, 'bench':1})))"
      ],
      "execution_count": null,
      "outputs": [
        {
          "output_type": "stream",
          "name": "stdout",
          "text": [
            "{Proposition(item=0, at_least=1), Proposition(item=14, at_least=5), Proposition(item=14, at_least=4), Proposition(item=14, at_least=1), Proposition(item=14, at_least=3), Proposition(item=14, at_least=2)}\n"
          ]
        }
      ]
    },
    {
      "cell_type": "markdown",
      "metadata": {
        "id": "UQCOwD6hhG0W"
      },
      "source": [
        "Now let's get the propositions from the recipes\n",
        "\n",
        "## Task 5 15\n",
        "* Implement a function that returns all of the propositions that would be entailed by a recipe (all of the propositions that would need to exist for both its preconditions and postconditions to be adequately represented)"
      ]
    },
    {
      "cell_type": "code",
      "metadata": {
        "colab": {
          "base_uri": "https://localhost:8080/"
        },
        "id": "ZEAH86NEhG0W",
        "outputId": "43b6adb0-2b65-4611-e9c2-7d6489ff0322"
      },
      "source": [
        "\n",
        "def recipe_to_propositions(recipe: Recipe) -> Set[Proposition]:\n",
        "    propositions: Set[Proposition] = set()\n",
        "    minimal: Set[Proposition] = set()\n",
        "\n",
        "    # TODO Do something with recipe.consumes, recipe.produces, and recipe.requires.\n",
        "    # Emit, for this recipe, all the propositions entailed by the postconditions \n",
        "    #and the _minimal_ set of propositions required for the preconditions \n",
        "    #(i.e., don't need to output wood >= 2, wood >= 1, wood >= 0 if the recipe needs 2 wood.)\n",
        "    propositions |= state_propositions(recipe.consumes)\n",
        "    propositions |= state_propositions(recipe.produces)\n",
        "    propositions |= state_propositions(recipe.requires)\n",
        "\n",
        "    for i,j in enumerate(items_by_index):\n",
        "        addprop = False\n",
        "        minimum = 0\n",
        "        for x in propositions:\n",
        "            if (i == x.item):\n",
        "                if (x.at_least >= minimum):\n",
        "                    minimum = x.at_least\n",
        "                    addprop = True\n",
        "        if (addprop):\n",
        "            minimal.add(Proposition(i, minimum))\n",
        "            addprop = False\n",
        "\n",
        "    propositions = minimal\n",
        "    propositions |= state_propositions(recipe.consumes)\n",
        "    return propositions\n",
        "\n",
        "recipe_propositions = set()\n",
        "for r in recipes:\n",
        "    recipe_propositions |= recipe_to_propositions(recipes[r])\n",
        "\n",
        "# example\n",
        "print(recipe_to_propositions(recipes['craft wooden_pickaxe at bench']))"
      ],
      "execution_count": null,
      "outputs": [
        {
          "output_type": "stream",
          "name": "stdout",
          "text": [
            "{Proposition(item=0, at_least=1), Proposition(item=9, at_least=1), Proposition(item=9, at_least=2), Proposition(item=11, at_least=2), Proposition(item=9, at_least=3), Proposition(item=16, at_least=1), Proposition(item=11, at_least=1)}\n"
          ]
        }
      ]
    },
    {
      "cell_type": "markdown",
      "metadata": {
        "id": "cFkOMTC_hG0Y"
      },
      "source": [
        "We can capture the notion of \"ignoring states that are not different enough\" by using the idea of a closed set from the cycle prevention techniques in graph search.\n",
        "Instead of checking that the newly expanded state is present in a set of seen states, we can check whether it offers any predicate combinations of width up to $W$ we haven't already encountered at width bound $W$.\n",
        "Given the set of propositions that are important in our state, we want to create a list of all the propositions and combinations of up to $W$ propositions.\n",
        "When considering a newly expanded state $s$, we find all of the unique combinations of propositions that are true in $s$ and return the size of the smallest such combination; we compare this size against $W$ and give up if it is too high.\n",
        "\n",
        "For example:\n",
        "- If $s$ was the first state we've seen with `bench>=1` it would have width 1; we use the closed set to determine whether a given combination has been seen before.\n",
        "- If $s$ was the first state with `bench>=1` and `wooden_axe>=1` but no new atomic propositions, it would have width 2\n",
        "- If $s$ has no unique combinations up to size $W$, we say it has infinite width (which we can write as just W+1, since we ignore states wider than $W$).\n",
        "- If the width of $s$ is greater than $W$, we do not add it to the open queue.\n",
        "\n",
        "Provided is a snippet that will check whether a state satisfies a set representing a combination of propositions.\n",
        "It will be useful in determining whether a state is novel."
      ]
    },
    {
      "cell_type": "code",
      "metadata": {
        "colab": {
          "base_uri": "https://localhost:8080/",
          "height": 244
        },
        "id": "iEbxtB3EhG0Z",
        "outputId": "6e936067-d16d-424e-cd20-769d7bc17c89"
      },
      "source": [
        "# Example, assuming propositions is a Set[Proposition]\n",
        "\n",
        "#state_props:Set[Proposition] = state_propositions(state)\n",
        "if state_props.issuperset(propositions):\n",
        "    pass\n",
        "    # The state has this combination!\n",
        "else:\n",
        "    pass\n",
        "    # The state does not!\n",
        "\n"
      ],
      "execution_count": null,
      "outputs": [
        {
          "output_type": "error",
          "ename": "NameError",
          "evalue": "ignored",
          "traceback": [
            "\u001b[0;31m---------------------------------------------------------------------------\u001b[0m",
            "\u001b[0;31mNameError\u001b[0m                                 Traceback (most recent call last)",
            "\u001b[0;32m<ipython-input-33-a8422fe9f213>\u001b[0m in \u001b[0;36m<module>\u001b[0;34m()\u001b[0m\n\u001b[1;32m      2\u001b[0m \u001b[0;34m\u001b[0m\u001b[0m\n\u001b[1;32m      3\u001b[0m \u001b[0;31m#state_props:Set[Proposition] = state_propositions(state)\u001b[0m\u001b[0;34m\u001b[0m\u001b[0;34m\u001b[0m\u001b[0;34m\u001b[0m\u001b[0m\n\u001b[0;32m----> 4\u001b[0;31m \u001b[0;32mif\u001b[0m \u001b[0mstate_props\u001b[0m\u001b[0;34m.\u001b[0m\u001b[0missuperset\u001b[0m\u001b[0;34m(\u001b[0m\u001b[0mpropositions\u001b[0m\u001b[0;34m)\u001b[0m\u001b[0;34m:\u001b[0m\u001b[0;34m\u001b[0m\u001b[0;34m\u001b[0m\u001b[0m\n\u001b[0m\u001b[1;32m      5\u001b[0m     \u001b[0;32mpass\u001b[0m\u001b[0;34m\u001b[0m\u001b[0;34m\u001b[0m\u001b[0m\n\u001b[1;32m      6\u001b[0m     \u001b[0;31m# The state has this combination!\u001b[0m\u001b[0;34m\u001b[0m\u001b[0;34m\u001b[0m\u001b[0;34m\u001b[0m\u001b[0m\n",
            "\u001b[0;31mNameError\u001b[0m: name 'state_props' is not defined"
          ]
        }
      ]
    },
    {
      "cell_type": "markdown",
      "metadata": {
        "id": "FCbFSANghG0a"
      },
      "source": [
        "Now you are equipped to implement iterated widening search.\n",
        "For each instance of the search, you will want to keep track of all the witnessed combinations of propositions; this can be a set of sets (well, a set of `FrozenSets`, a Python type for an immutable set).\n",
        "To update this set, you will implement a function `see_state(s:State, combinations:List[FrozenSet[Proposition]], seen_combinations:Set[FrozenSet[Proposition]]) -> bool` which will take in a state, a list of combinations (sets of Propositions), and the seen set and output whether any new combinations were witnessed in this state.\n",
        "Note that one state might lead to the discovery of several new combinations.\n",
        "\n",
        "##Task 6 20 points\n",
        "* Implement the function `see_state` which takes in a state, a list of all possible combinations of the appropriate width, and a set containing all of the combinations that have already been seen.\n",
        "* NOTE: You will most likely want to iterate through all_combinations, if that combination is in seen_combinations, you will want to continue on (since it can't possibly be a new combination) -- if it is not in seen_combinations, you should check to see if that combination is found in the State\n",
        "* If all combinations are already in `seen_combinations` it should return false, otherwise it should return True (i.e. it found at least one new combination)\n",
        "* This function should modify `seen_combinations` such that when a new combination is found it is `add`ed to `seen_combinations`"
      ]
    },
    {
      "cell_type": "code",
      "metadata": {
        "colab": {
          "base_uri": "https://localhost:8080/"
        },
        "id": "EIsNYxRyhG0b",
        "outputId": "d29b5ae6-1096-4f38-db1e-0d091f43072d"
      },
      "source": [
        "def see_state(state:State, combinations:List[Set[Proposition]], seen_combinations:Set[FrozenSet[Proposition]]) -> bool:\n",
        "    any_new = False\n",
        "        \n",
        "        # TODO Is this combination already in seen_combinations?\n",
        "        #  If not, it's novel; so is this combination a subset of the state_props?\n",
        "    props = state_propositions(state)\n",
        "    for i in combinations:\n",
        "        if i in seen_combinations:\n",
        "            continue\n",
        "\n",
        "        elif (props.issuperset(i)):\n",
        "            seen_combinations.add(i)\n",
        "            any_new = True\n",
        "\n",
        "    return any_new\n",
        "\n",
        "all_combinations: List[FrozenSet[Proposition]] = []\n",
        "seen_combinations: Set[FrozenSet[Proposition]] = set()\n",
        "see_state(State.from_dict({'bench':1,\"plank\": 3, \"stick\": 2 }), all_combinations, seen_combinations)"
      ],
      "execution_count": null,
      "outputs": [
        {
          "output_type": "execute_result",
          "data": {
            "text/plain": [
              "False"
            ]
          },
          "metadata": {},
          "execution_count": 34
        }
      ]
    },
    {
      "cell_type": "markdown",
      "metadata": {
        "id": "Loaj1wv6hG0c"
      },
      "source": [
        "The outer loop of iterative widening gradually increases the bound $W$ up to a given $WMax$.\n",
        "The inner loop has the same skeleton as a standard graph search, with the exception that non-novel states are immediately thrown away.\n",
        "For now, implement iterative widening's inner loop using breadth-first search.\n",
        "\n",
        "Your search should return the sequence of actions required to reach a goal condition from an initial condition, along with the cost of that plan.\n",
        "You also may want to print output describing how many nodes are visited and how much time has been taken for each value of $W$.\n",
        "\n",
        "\n",
        "Iterated Widening is a pruning technique that admits a lot of different search techniques:\n",
        "Try it with:\n",
        "* Depth-First Search \n",
        "    * Try changing the order of the recipes\n",
        "        * the default order\n",
        "        * randomly shuffled\n",
        "        * sorted from lowest to highest cost\n",
        "        * highest to lowest cost\n",
        "* Breadth-First Search\n",
        "\n",
        "\n",
        "\n",
        "#Task 7  20 points\n",
        "* Bring it all together and implement the width based search\n",
        "* It should be very similar to your BFS implementation above, except you should use `see_state` to determine if an action should be applied (because it leads to a novel state combination) or pruned (because it doesn't)\n"
      ]
    },
    {
      "cell_type": "code",
      "metadata": {
        "id": "s5vhTm9whG0d"
      },
      "source": [
        "import random\n",
        "\n",
        "def width_search(initial: State, goal: State, WMax: int) -> Tuple[int, Optional[List[str]]]:\n",
        "    start_time = time.time()\n",
        "    all_propositions = recipe_propositions | state_propositions(initial) | state_propositions(goal)\n",
        "    all_combinations: List[FrozenSet[Proposition]] = []\n",
        "    # Increase W up to WMax\n",
        "    for W in range(1, WMax + 1):\n",
        "        states_visited = 0\n",
        "        # Calculate all combinations of propositions at size W and add to all_combination\n",
        "        all_combinations += [frozenset(props) for props in itertools.combinations(all_propositions, W)]\n",
        "        print(\"W=\",W,\"Combination count=\",len(all_combinations))\n",
        "        # Track, for each combination (by index), whether we have seen this combination before (0 for no, >0 for yes)\n",
        "        seen_combinations: Set[FrozenSet[Proposition]] = set()\n",
        "        # Initialize seen_combinations\n",
        "        see_state(initial, all_combinations, seen_combinations)\n",
        "\n",
        "        open_list: List[Tuple[int, State]] = [(0, initial)]\n",
        "        #best_costs: Dict[State, int] = {initial: 0}\n",
        "        #best_from: Dict[State, List[str]] = {initial: []}\n",
        "        frontier = [initial]\n",
        "        visited = set()\n",
        "        cost = 0\n",
        "        came_from = {initial:None}\n",
        "        path = []\n",
        "\n",
        "        while len(frontier)>0:\n",
        "            \n",
        "            # TODO This should look like your graph search, except...\n",
        "            # Call see_state on newly expanded states to update seen_combinations and use its return value to decide whether to add this state to the open list (is that the only thing that determines whether it should go on the open list?)\n",
        "        \n",
        "            current = frontier.pop(0)\n",
        "            if current in visited:\n",
        "              continue\n",
        "            states_visited += 1 \n",
        "\n",
        "            if isGoal(current, goal):\n",
        "              previous = current\n",
        "              while came_from[previous] is not None:\n",
        "                cost = cost + recipes[came_from[previous][1]].cost\n",
        "                path.insert(0, came_from[previous][1])\n",
        "                previous = came_from[previous][0]  \n",
        "\n",
        "              return (states_visited, cost, path)\n",
        "\n",
        "            for recipe in recipes:      \n",
        "              if preconditions_satisfied(current,recipes[recipe]):\n",
        "                neighborState = apply_effects(current,recipes[recipe])\n",
        "                if see_state(neighborState,all_combinations,seen_combinations):\n",
        "                  neighbor = (neighborState, recipe)\n",
        "                  frontier.append(neighborState)\n",
        "                  came_from[neighborState] = (current, recipe)\n",
        "\n",
        "    return states_visited, -1, None"
      ],
      "execution_count": null,
      "outputs": []
    },
    {
      "cell_type": "code",
      "metadata": {
        "colab": {
          "base_uri": "https://localhost:8080/"
        },
        "id": "mGJzf_JPhG0e",
        "outputId": "5effa4c0-cef7-4a1a-dbed-0249aa6f8f49"
      },
      "source": [
        "\n",
        "print(width_search(State.from_dict({}),State.from_dict({'bench':1}),2))\n",
        "print(width_search(State.from_dict({'wood':1}),State.from_dict({'wooden_pickaxe':1}),3))\n",
        "print(width_search(State.from_dict({'wood':1}),State.from_dict({'iron_pickaxe':1}),4))\n",
        "print(width_search(State.from_dict({}),State.from_dict({'rail':1}),4))\n",
        "print(width_search(State.from_dict({}),State.from_dict({'cart':1}),4))\n"
      ],
      "execution_count": null,
      "outputs": [
        {
          "output_type": "stream",
          "name": "stdout",
          "text": [
            "W= 1 Combination count= 34\n",
            "(5, 6, ['punch for wood', 'craft plank', 'craft bench'])\n",
            "W= 1 Combination count= 34\n",
            "W= 2 Combination count= 595\n",
            "W= 3 Combination count= 6579\n",
            "(15, 14, ['craft plank', 'craft stick', 'punch for wood', 'craft plank', 'punch for wood', 'craft bench', 'craft plank', 'craft wooden_pickaxe at bench'])\n",
            "W= 1 Combination count= 34\n",
            "W= 2 Combination count= 595\n",
            "W= 3 Combination count= 6579\n",
            "(613, 85, ['craft plank', 'craft stick', 'punch for wood', 'craft plank', 'punch for wood', 'craft bench', 'craft plank', 'craft wooden_pickaxe at bench', 'wooden_pickaxe for coal', 'wooden_pickaxe for cobble', 'wooden_pickaxe for cobble', 'wooden_pickaxe for cobble', 'craft stone_pickaxe at bench', 'stone_pickaxe for ore', 'stone_pickaxe for cobble', 'stone_pickaxe for cobble', 'stone_pickaxe for cobble', 'stone_pickaxe for cobble', 'stone_pickaxe for cobble', 'stone_pickaxe for cobble', 'stone_pickaxe for cobble', 'stone_pickaxe for cobble', 'craft furnace at bench', 'smelt ore in furnace', 'wooden_pickaxe for coal', 'stone_pickaxe for ore', 'smelt ore in furnace', 'wooden_pickaxe for coal', 'stone_pickaxe for ore', 'smelt ore in furnace', 'craft stick', 'craft iron_pickaxe at bench'])\n",
            "W= 1 Combination count= 35\n",
            "W= 2 Combination count= 630\n",
            "W= 3 Combination count= 7175\n",
            "(1123, 128, ['punch for wood', 'craft plank', 'craft stick', 'punch for wood', 'craft plank', 'punch for wood', 'craft bench', 'craft plank', 'craft wooden_pickaxe at bench', 'wooden_pickaxe for coal', 'wooden_pickaxe for cobble', 'wooden_pickaxe for cobble', 'wooden_pickaxe for cobble', 'craft stone_pickaxe at bench', 'stone_pickaxe for ore', 'stone_pickaxe for cobble', 'stone_pickaxe for cobble', 'stone_pickaxe for cobble', 'stone_pickaxe for cobble', 'stone_pickaxe for cobble', 'stone_pickaxe for cobble', 'stone_pickaxe for cobble', 'stone_pickaxe for cobble', 'craft furnace at bench', 'smelt ore in furnace', 'wooden_pickaxe for coal', 'stone_pickaxe for ore', 'smelt ore in furnace', 'wooden_pickaxe for coal', 'stone_pickaxe for ore', 'smelt ore in furnace', 'wooden_pickaxe for coal', 'stone_pickaxe for ore', 'smelt ore in furnace', 'wooden_pickaxe for coal', 'stone_pickaxe for ore', 'smelt ore in furnace', 'wooden_pickaxe for coal', 'stone_pickaxe for ore', 'smelt ore in furnace', 'craft stick', 'craft rail at bench'])\n",
            "W= 1 Combination count= 34\n",
            "W= 2 Combination count= 595\n",
            "W= 3 Combination count= 6579\n",
            "(862, 114, ['punch for wood', 'craft plank', 'craft stick', 'punch for wood', 'craft plank', 'punch for wood', 'craft bench', 'craft plank', 'craft wooden_pickaxe at bench', 'wooden_pickaxe for coal', 'wooden_pickaxe for cobble', 'wooden_pickaxe for cobble', 'wooden_pickaxe for cobble', 'craft stone_pickaxe at bench', 'stone_pickaxe for ore', 'stone_pickaxe for cobble', 'stone_pickaxe for cobble', 'stone_pickaxe for cobble', 'stone_pickaxe for cobble', 'stone_pickaxe for cobble', 'stone_pickaxe for cobble', 'stone_pickaxe for cobble', 'stone_pickaxe for cobble', 'craft furnace at bench', 'smelt ore in furnace', 'wooden_pickaxe for coal', 'stone_pickaxe for ore', 'smelt ore in furnace', 'wooden_pickaxe for coal', 'stone_pickaxe for ore', 'smelt ore in furnace', 'wooden_pickaxe for coal', 'stone_pickaxe for ore', 'smelt ore in furnace', 'wooden_pickaxe for coal', 'stone_pickaxe for ore', 'smelt ore in furnace', 'craft cart at bench'])\n"
          ]
        }
      ]
    },
    {
      "cell_type": "markdown",
      "metadata": {
        "id": "emddjx0XhG0h"
      },
      "source": [
        "For extra credit (10 points) adapt your A* approach to work with the Iterated Widening"
      ]
    },
    {
      "cell_type": "code",
      "metadata": {
        "id": "A3wzocAshG0h"
      },
      "source": [
        ""
      ],
      "execution_count": null,
      "outputs": []
    }
  ]
}